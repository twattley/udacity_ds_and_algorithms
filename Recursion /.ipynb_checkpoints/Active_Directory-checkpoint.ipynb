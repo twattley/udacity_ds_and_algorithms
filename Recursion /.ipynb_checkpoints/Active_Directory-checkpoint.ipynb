{
 "cells": [
  {
   "cell_type": "code",
   "execution_count": 1,
   "metadata": {},
   "outputs": [],
   "source": [
    "import os"
   ]
  },
  {
   "cell_type": "code",
   "execution_count": 2,
   "metadata": {},
   "outputs": [],
   "source": [
    "initial_folder = os.path.join(os.getcwd(), 'testdir')"
   ]
  },
  {
   "cell_type": "code",
   "execution_count": 3,
   "metadata": {},
   "outputs": [],
   "source": [
    "def find_files(suffix, path):\n",
    "\n",
    "    if not path:\n",
    "        raise ValueError('no path specified')\n",
    "    \n",
    "    if not suffix:\n",
    "        raise ValueError('no file suffix specified')\n",
    "    \n",
    "    paths = []\n",
    "    \n",
    "    if os.path.isfile(path):\n",
    "        if path.endswith(suffix):\n",
    "            paths.append(path)\n",
    "\n",
    "    if os.path.isdir(path):\n",
    "        for child in os.listdir(path):\n",
    "            child_path = os.path.join(path, child)\n",
    "            paths.extend(find_files(suffix, child_path))\n",
    "\n",
    "\n",
    "    return paths\n"
   ]
  },
  {
   "cell_type": "code",
   "execution_count": 4,
   "metadata": {},
   "outputs": [
    {
     "data": {
      "text/plain": [
       "['/Users/tom.wattley/Desktop/Udacity/Recursion /testdir/subdir3/subsubdir1/b.c',\n",
       " '/Users/tom.wattley/Desktop/Udacity/Recursion /testdir/t1.c',\n",
       " '/Users/tom.wattley/Desktop/Udacity/Recursion /testdir/subdir5/a.c',\n",
       " '/Users/tom.wattley/Desktop/Udacity/Recursion /testdir/subdir1/a.c']"
      ]
     },
     "execution_count": 4,
     "metadata": {},
     "output_type": "execute_result"
    }
   ],
   "source": [
    "find_files('.c',initial_folder)"
   ]
  },
  {
   "cell_type": "code",
   "execution_count": null,
   "metadata": {},
   "outputs": [],
   "source": []
  }
 ],
 "metadata": {
  "kernelspec": {
   "display_name": "Python 3",
   "language": "python",
   "name": "python3"
  },
  "language_info": {
   "codemirror_mode": {
    "name": "ipython",
    "version": 3
   },
   "file_extension": ".py",
   "mimetype": "text/x-python",
   "name": "python",
   "nbconvert_exporter": "python",
   "pygments_lexer": "ipython3",
   "version": "3.7.4"
  }
 },
 "nbformat": 4,
 "nbformat_minor": 2
}
