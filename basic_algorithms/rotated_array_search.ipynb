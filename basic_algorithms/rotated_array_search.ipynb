{
 "cells": [
  {
   "cell_type": "code",
   "execution_count": 30,
   "metadata": {},
   "outputs": [],
   "source": [
    "def rotated_array_search(input_list, number):\n",
    "    \"\"\"\n",
    "    Find the index by searching in a rotated sorted array\n",
    "\n",
    "    Args:\n",
    "       input_list(array), number(int): Input array to search and the target\n",
    "    Returns:\n",
    "       int: Index or -1\n",
    "    \"\"\"\n",
    "\n",
    "    if not isinstance(input_list, list):\n",
    "        raise TypeError('input to rotated array search must be list')\n",
    "        \n",
    "    if not type(number) == int:\n",
    "        raise TypeError('number to be searched must be int')\n",
    "        \n",
    "    start = 0\n",
    "    end = len(input_list) - 1 #zero index means last = -1\n",
    "    \n",
    "    while start <= end:\n",
    "        middle_index = start + (end - start) // 2\n",
    "        \n",
    "        if input_list[middle_index] == number: #while loop exit case \n",
    "            return middle_index\n",
    "        \n",
    "        if input_list[middle_index] >= input_list[start]:\n",
    "\n",
    "            if input_list[start] <= number < input_list[middle_index]:\n",
    "                end = middle_index - 1\n",
    "            else: start = middle_index + 1\n",
    "                \n",
    "        else:\n",
    "            if input_list[end] >= number > input_list[middle_index]: \n",
    "                start = middle_index + 1\n",
    "            else: end = middle_index - 1\n",
    "                \n",
    "    return -1\n",
    "\n",
    "\n",
    "def linear_search(input_list, number):\n",
    "    for index, element in enumerate(input_list):\n",
    "        if element == number:\n",
    "            return index\n",
    "    return -1\n",
    "\n",
    "def test_function(test_case):\n",
    "    input_list = test_case[0]\n",
    "    number = test_case[1]\n",
    "    if linear_search(input_list, number) == rotated_array_search(input_list, number):\n",
    "        print(\"Pass\")\n",
    "    else:\n",
    "        print(\"Fail\")\n",
    "\n",
    "test_function([[6, 7, 8, 9, 10, 1, 2, 3, 4], 6])\n",
    "test_function([[6, 7, 8, 9, 10, 1, 2, 3, 4], 1])\n",
    "test_function([[6, 7, 8, 1, 2, 3, 4], 8])\n",
    "test_function([[6, 7, 8, 1, 2, 3, 4], 1])\n",
    "test_function([[6, 7, 8, 1, 2, 3, 4], 10])\n",
    "\n"
   ]
  },
  {
   "cell_type": "markdown",
   "metadata": {},
   "source": [
    "Design:\n",
    "\n",
    "for the rotate array search a binary iterative search has been used, I intially started with 2 binary searches one to find the start of the list then one to split and find the index of the number before realising one iterative approach could solve the problem, recursive solutions were also considered but the iterative approach felt more natural \n",
    "\n",
    "\n",
    "time complexity: \n",
    "\n",
    "being binary search this is implemented in log(n) time every pass through the array cuts the search space in half so for an array of 8 only 3 passes are required\n",
    "\n",
    "space complexity:\n",
    "\n",
    "space complexity for the search is 0(1) there will always be 1 item being passed to look for this is constant "
   ]
  },
  {
   "cell_type": "code",
   "execution_count": 37,
   "metadata": {},
   "outputs": [],
   "source": [
    "def mergesort(items):\n",
    "\n",
    "    if len(items) <= 1:\n",
    "        return items\n",
    "    \n",
    "    mid = len(items) // 2\n",
    "    left = items[:mid]\n",
    "    right = items[mid:]\n",
    "    \n",
    "    left = mergesort(left)\n",
    "    right = mergesort(right)\n",
    "    \n",
    "    return merge(left, right)\n",
    "    \n",
    "def merge(left, right):\n",
    "    \n",
    "    merged = []\n",
    "    left_index = 0\n",
    "    right_index = 0\n",
    "    \n",
    "    while left_index < len(left) and right_index < len(right):\n",
    "        if left[left_index] > right[right_index]:\n",
    "            merged.append(right[right_index])\n",
    "            right_index += 1\n",
    "        else:\n",
    "            merged.append(left[left_index])\n",
    "            left_index += 1\n",
    "\n",
    "    merged += left[left_index:]\n",
    "    merged += right[right_index:]\n",
    "        \n",
    "    return merged"
   ]
  },
  {
   "cell_type": "code",
   "execution_count": 39,
   "metadata": {},
   "outputs": [
    {
     "name": "stdout",
     "output_type": "stream",
     "text": [
      "tree\n"
     ]
    }
   ],
   "source": [
    "if 5 > number <= 3:\n",
    "    print('tree')\n",
    "else:\n",
    "    print('no')"
   ]
  },
  {
   "cell_type": "code",
   "execution_count": null,
   "metadata": {},
   "outputs": [],
   "source": []
  }
 ],
 "metadata": {
  "kernelspec": {
   "display_name": "Python 3",
   "language": "python",
   "name": "python3"
  },
  "language_info": {
   "codemirror_mode": {
    "name": "ipython",
    "version": 3
   },
   "file_extension": ".py",
   "mimetype": "text/x-python",
   "name": "python",
   "nbconvert_exporter": "python",
   "pygments_lexer": "ipython3",
   "version": "3.7.4"
  }
 },
 "nbformat": 4,
 "nbformat_minor": 2
}
