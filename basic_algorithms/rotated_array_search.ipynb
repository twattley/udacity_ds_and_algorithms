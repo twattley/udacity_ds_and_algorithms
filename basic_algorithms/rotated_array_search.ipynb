{
 "cells": [
  {
   "cell_type": "code",
   "execution_count": 18,
   "metadata": {},
   "outputs": [],
   "source": [
    "import unittest"
   ]
  },
  {
   "cell_type": "code",
   "execution_count": 1,
   "metadata": {},
   "outputs": [],
   "source": [
    "class TrieNode:\n",
    "    def __init__(self):\n",
    "        self.children = {}\n",
    "        self.is_word = False\n",
    "    \n",
    "    def insert(self, letter):\n",
    "        ## Add a child node in this Trie\n",
    "        if letter not in self.children:\n",
    "            self.children[letter] = TrieNode()\n",
    "            \n",
    "    def suffixes(self, suffix = ''):\n",
    "        ## Recursive function that collects the suffix for \n",
    "        ## all complete words below this point\n",
    "        words = []\n",
    "        for letter, child in self.children.items():\n",
    "            if child.is_word:\n",
    "                words.append(suffix + letter)\n",
    "            words += child.suffixes(suffix + letter)\n",
    "        return words\n",
    "\n",
    "\n",
    "class Trie:\n",
    "    def __init__(self):\n",
    "        ## Initialize this Trie (add a root node)\n",
    "        self.root = TrieNode()\n",
    "\n",
    "    def insert(self, word):\n",
    "        ## Add a word to the Trie\n",
    "        trie_node = self.root #head node\n",
    "        for letter in word:   \n",
    "            trie_node.insert(letter)   #add letter create children dict\n",
    "            trie_node = trie_node.children[letter] #\n",
    "        trie_node.is_word = True\n",
    "            \n",
    "\n",
    "    def find(self, prefix):\n",
    "        ## Find the Trie node that represents this prefix\n",
    "        trie_node = self.root\n",
    "        for letter in prefix:\n",
    "            trie_node = trie_node.children[letter]\n",
    "        return trie_node\n",
    "\n",
    "\n",
    "\n"
   ]
  },
  {
   "cell_type": "code",
   "execution_count": 7,
   "metadata": {},
   "outputs": [],
   "source": [
    "p = Trie()"
   ]
  },
  {
   "cell_type": "code",
   "execution_count": 8,
   "metadata": {},
   "outputs": [],
   "source": [
    "p.insert('TOM')"
   ]
  },
  {
   "cell_type": "code",
   "execution_count": 9,
   "metadata": {},
   "outputs": [],
   "source": [
    "p.insert('STEVE')"
   ]
  },
  {
   "cell_type": "code",
   "execution_count": 10,
   "metadata": {},
   "outputs": [],
   "source": [
    "p.insert('TOMATO')"
   ]
  },
  {
   "cell_type": "code",
   "execution_count": 17,
   "metadata": {},
   "outputs": [
    {
     "data": {
      "text/plain": [
       "<__main__.TrieNode at 0x107c48290>"
      ]
     },
     "execution_count": 17,
     "metadata": {},
     "output_type": "execute_result"
    }
   ],
   "source": [
    "p.find('TO')"
   ]
  },
  {
   "cell_type": "code",
   "execution_count": 17,
   "metadata": {},
   "outputs": [
    {
     "data": {
      "text/plain": [
       "'60123843'"
      ]
     },
     "execution_count": 17,
     "metadata": {},
     "output_type": "execute_result"
    }
   ],
   "source": [
    "'60123843'"
   ]
  },
  {
   "cell_type": "markdown",
   "metadata": {},
   "source": [
    "length of df   == 263642"
   ]
  },
  {
   "cell_type": "code",
   "execution_count": 50,
   "metadata": {},
   "outputs": [],
   "source": [
    "class TestStringMethods(unittest.TestCase):\n",
    "    \n",
    "    \"\"\" test cases for huffman encoder \"\"\"\n",
    "\n",
    "    def test_list_error(self):\n",
    "        with self.assertRaises(TypeError):\n",
    "            get_min_max('some string input')\n",
    "    \n",
    "    def test_int_error(self):\n",
    "        with self.assertRaises(TypeError):\n",
    "            get_min_max([1,'some string input',2])\n",
    "    \n",
    "    def test_get_min_max_function(self):\n",
    "        min_num, max_num = get_min_max(TEST_LIST_1)\n",
    "        assert min_num == min(TEST_LIST_1)\n",
    "        assert max_num == max(TEST_LIST_1)\n",
    "        min_num, max_num = get_min_max(TEST_LIST_2)\n",
    "        assert min_num == min(TEST_LIST_2)\n",
    "        assert max_num == max(TEST_LIST_2)\n",
    "        min_num, max_num = get_min_max(TEST_LIST_3)\n",
    "        assert min_num == min(TEST_LIST_3)\n",
    "        assert max_num == max(TEST_LIST_3)\n",
    "        \n",
    "#run tests\n",
    "unittest.main(argv=['first-arg-is-ignored'], exit=False)\n",
    "    "
   ]
  },
  {
   "cell_type": "code",
   "execution_count": null,
   "metadata": {},
   "outputs": [],
   "source": []
  }
 ],
 "metadata": {
  "kernelspec": {
   "display_name": "Python 3",
   "language": "python",
   "name": "python3"
  },
  "language_info": {
   "codemirror_mode": {
    "name": "ipython",
    "version": 3
   },
   "file_extension": ".py",
   "mimetype": "text/x-python",
   "name": "python",
   "nbconvert_exporter": "python",
   "pygments_lexer": "ipython3",
   "version": "3.7.4"
  }
 },
 "nbformat": 4,
 "nbformat_minor": 2
}
