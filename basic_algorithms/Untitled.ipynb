{
 "cells": [
  {
   "cell_type": "code",
   "execution_count": null,
   "metadata": {},
   "outputs": [],
   "source": [
    "class TrieNode:\n",
    "    \n",
    "    def __init__(self):\n",
    "        self.children = {}\n",
    "        self.is_word = False\n",
    "        \n",
    "    def insert(self, char):\n",
    "        if char not in self.children:\n",
    "            self.children = TrieNode()\n",
    "    \n",
    "class Trie:\n",
    "    \n",
    "    def __init__(self):\n",
    "        self.root = TrieNode()\n",
    "        \n",
    "    def insert(self, word):\n",
    "        \n",
    "        node = self.root\n",
    "        \n",
    "        for char in word:\n",
    "            node.insert(char)\n",
    "            node = node.children[char]\n",
    "            \n",
    "        node.is_word = True\n",
    "        \n",
    "    def find(self, prefix):\n",
    "        \n",
    "        node = self.root\n",
    "        for char in prefix:\n",
    "            node = node.children[char]\n",
    "        return node\n",
    "        \n",
    "        \n",
    "            "
   ]
  },
  {
   "cell_type": "code",
   "execution_count": 1,
   "metadata": {},
   "outputs": [
    {
     "name": "stdout",
     "output_type": "stream",
     "text": [
      "Is \"a\"   a word: True\n",
      "Is \"ad\"  a word: False\n",
      "Is \"add\" a word: True\n"
     ]
    }
   ],
   "source": [
    "basic_trie = {\n",
    "    # a and add word\n",
    "    'a': {\n",
    "        'd': {\n",
    "            'd': {'word_end': True},\n",
    "            'word_end': False},\n",
    "        'word_end': True},\n",
    "    # hi word\n",
    "    'h': {\n",
    "        'i': {'word_end': True},\n",
    "        'word_end': False}}\n",
    "\n",
    "\n",
    "print('Is \"a\"   a word: {}'.format(basic_trie['a']['word_end']))\n",
    "print('Is \"ad\"  a word: {}'.format(basic_trie['a']['d']['word_end']))\n",
    "print('Is \"add\" a word: {}'.format(basic_trie['a']['d']['d']['word_end']))"
   ]
  },
  {
   "cell_type": "code",
   "execution_count": 6,
   "metadata": {},
   "outputs": [
    {
     "data": {
      "text/plain": [
       "True"
      ]
     },
     "execution_count": 6,
     "metadata": {},
     "output_type": "execute_result"
    }
   ],
   "source": [
    "basic_trie['h']['i']['word_end']"
   ]
  },
  {
   "cell_type": "code",
   "execution_count": null,
   "metadata": {},
   "outputs": [],
   "source": []
  }
 ],
 "metadata": {
  "kernelspec": {
   "display_name": "Python 3",
   "language": "python",
   "name": "python3"
  },
  "language_info": {
   "codemirror_mode": {
    "name": "ipython",
    "version": 3
   },
   "file_extension": ".py",
   "mimetype": "text/x-python",
   "name": "python",
   "nbconvert_exporter": "python",
   "pygments_lexer": "ipython3",
   "version": "3.7.4"
  }
 },
 "nbformat": 4,
 "nbformat_minor": 2
}
