{
 "cells": [
  {
   "cell_type": "code",
   "execution_count": 1,
   "metadata": {},
   "outputs": [
    {
     "name": "stderr",
     "output_type": "stream",
     "text": [
      "...\n",
      "----------------------------------------------------------------------\n",
      "Ran 3 tests in 0.003s\n",
      "\n",
      "OK\n"
     ]
    },
    {
     "data": {
      "text/plain": [
       "<unittest.main.TestProgram at 0x102d60250>"
      ]
     },
     "execution_count": 1,
     "metadata": {},
     "output_type": "execute_result"
    }
   ],
   "source": [
    "import math\n",
    "import unittest\n",
    "\n",
    "def squareroot(num):\n",
    "   \n",
    "    if not type(num) == int:\n",
    "        raise TypeError('input must be an integer')\n",
    "       \n",
    "    #0 case\n",
    "    if num == 0:\n",
    "        return 0\n",
    "   \n",
    "    if not num > 0:\n",
    "        raise ValueError('intger must be positive')\n",
    "   \n",
    "    #cases where root > half\n",
    "    if num <= 3:\n",
    "        return 1\n",
    "    #cases where root is half\n",
    "    if num == 4:\n",
    "        return 2\n",
    "    #all other cases where root is less than half\n",
    "\n",
    "    for i in range(2,num,1):\n",
    "        if (i+1)**2 == num:\n",
    "            return i+1\n",
    "        elif i**2 <= num <= (i+1)**2:\n",
    "            return i\n",
    "       \n",
    "    \n",
    "def test_helper_function(number):\n",
    "   \n",
    "    \"\"\" helper using builtins to test square root function \"\"\"\n",
    "   \n",
    "    return math.floor(math.sqrt(number))\n",
    "\n",
    "class TestSquareRoot(unittest.TestCase):\n",
    "   \n",
    "    \"\"\" test cases for square root function \"\"\"\n",
    "   \n",
    "\n",
    "    def test_type_error(self):\n",
    "        with self.assertRaises(TypeError):\n",
    "            squareroot('some string')\n",
    "   \n",
    "    def test_value_error(self):\n",
    "        with self.assertRaises(ValueError):\n",
    "            squareroot(-4)\n",
    "   \n",
    "    def test_square_root_function(self):\n",
    "   \n",
    "        assert squareroot(9) == test_helper_function(9)\n",
    "        assert squareroot(903420) == test_helper_function(903420)\n",
    "        assert squareroot(45) == test_helper_function(45)\n",
    "        assert squareroot(22) == test_helper_function(22)\n",
    "        assert squareroot(1) == test_helper_function(1)\n",
    "        assert squareroot(3) == test_helper_function(3)\n",
    "        assert squareroot(2) == test_helper_function(2)\n",
    "   \n",
    "\n",
    "\n",
    "#run tests\n",
    "unittest.main(argv=['first-arg-is-ignored'], exit=False)"
   ]
  },
  {
   "cell_type": "markdown",
   "metadata": {},
   "source": [
    "Design:\n",
    "\n",
    "the square root function has been "
   ]
  }
 ],
 "metadata": {
  "kernelspec": {
   "display_name": "Python 3",
   "language": "python",
   "name": "python3"
  },
  "language_info": {
   "codemirror_mode": {
    "name": "ipython",
    "version": 3
   },
   "file_extension": ".py",
   "mimetype": "text/x-python",
   "name": "python",
   "nbconvert_exporter": "python",
   "pygments_lexer": "ipython3",
   "version": "3.7.4"
  }
 },
 "nbformat": 4,
 "nbformat_minor": 2
}
