{
 "cells": [
  {
   "cell_type": "code",
   "execution_count": 209,
   "metadata": {},
   "outputs": [],
   "source": [
    "class LRU_Cache(object):\n",
    "\n",
    "    def __init__(self, capacity):\n",
    "        self.hash_map = {}\n",
    "        self.capacity = capacity\n",
    "        self.size = 0\n",
    "        self.hash_map.keys()\n",
    "\n",
    "    def get(self, key):\n",
    "        \n",
    "        #get value\n",
    "        #pop item from dict\n",
    "        #re-add item to front \n",
    "        try:\n",
    "            value = self.hash_map[key]\n",
    "            self.pop_used_item(key)\n",
    "            self.set_val(key, value)\n",
    "            return value\n",
    "        except KeyError:\n",
    "            return -1\n",
    "\n",
    "    def set_val(self, key, value):\n",
    "        if self.cache_full():\n",
    "            self.pop_last_item()\n",
    "        \n",
    "        self.hash_map[key] = value\n",
    "        self.size += 1\n",
    "    \n",
    "    def cache_full(self):\n",
    "        if self.size == 5:\n",
    "            return True\n",
    "        return False\n",
    "    \n",
    "    def pop_last_item(self):\n",
    "        key_list = tuple(self.hash_map.keys())\n",
    "        lru_key, *keys = key_list\n",
    "        self.hash_map.pop(lru_key)\n",
    "        self.size -= 1\n",
    "\n",
    "    \n",
    "    def pop_used_item(self, key):\n",
    "        self.hash_map.pop(key)\n",
    "        self.size -= 1\n",
    "\n",
    "        \n",
    "    def viewer(self):\n",
    "        return list(self.hash_map.items())\n",
    "\n"
   ]
  },
  {
   "cell_type": "code",
   "execution_count": 210,
   "metadata": {},
   "outputs": [],
   "source": [
    "our_cache = LRU_Cache(5)"
   ]
  },
  {
   "cell_type": "code",
   "execution_count": 211,
   "metadata": {},
   "outputs": [
    {
     "data": {
      "text/plain": [
       "5"
      ]
     },
     "execution_count": 211,
     "metadata": {},
     "output_type": "execute_result"
    }
   ],
   "source": [
    "our_cache.capacity"
   ]
  },
  {
   "cell_type": "code",
   "execution_count": 212,
   "metadata": {},
   "outputs": [
    {
     "name": "stdout",
     "output_type": "stream",
     "text": [
      "setting value [(1, 1)]\n",
      "size of cache is = 1\n",
      "setting value [(1, 1), (2, 2)]\n",
      "size of cache is = 2\n",
      "setting value [(1, 1), (2, 2), (3, 3)]\n",
      "size of cache is = 3\n",
      "setting value [(1, 1), (2, 2), (3, 3), (4, 4)]\n",
      "size of cache is = 4\n"
     ]
    }
   ],
   "source": [
    "\n",
    "our_cache.set_val(1, 1);\n",
    "our_cache.set_val(2, 2);\n",
    "our_cache.set_val(3, 3);\n",
    "our_cache.set_val(4, 4);"
   ]
  },
  {
   "cell_type": "code",
   "execution_count": 213,
   "metadata": {},
   "outputs": [
    {
     "name": "stdout",
     "output_type": "stream",
     "text": [
      "pop used item [(2, 2), (3, 3), (4, 4)]\n",
      "size of cache is = 3\n",
      "setting value [(2, 2), (3, 3), (4, 4), (1, 1)]\n",
      "size of cache is = 4\n",
      "getting value [(2, 2), (3, 3), (4, 4), (1, 1)]\n",
      "size of cache is = 4\n"
     ]
    },
    {
     "data": {
      "text/plain": [
       "1"
      ]
     },
     "execution_count": 213,
     "metadata": {},
     "output_type": "execute_result"
    }
   ],
   "source": [
    "our_cache.get(1)       # returns 1\n"
   ]
  },
  {
   "cell_type": "code",
   "execution_count": 214,
   "metadata": {},
   "outputs": [
    {
     "name": "stdout",
     "output_type": "stream",
     "text": [
      "pop used item [(3, 3), (4, 4), (1, 1)]\n",
      "size of cache is = 3\n",
      "setting value [(3, 3), (4, 4), (1, 1), (2, 2)]\n",
      "size of cache is = 4\n",
      "getting value [(3, 3), (4, 4), (1, 1), (2, 2)]\n",
      "size of cache is = 4\n"
     ]
    },
    {
     "data": {
      "text/plain": [
       "2"
      ]
     },
     "execution_count": 214,
     "metadata": {},
     "output_type": "execute_result"
    }
   ],
   "source": [
    "our_cache.get(2)       # returns 2\n",
    " "
   ]
  },
  {
   "cell_type": "code",
   "execution_count": 215,
   "metadata": {},
   "outputs": [
    {
     "data": {
      "text/plain": [
       "-1"
      ]
     },
     "execution_count": 215,
     "metadata": {},
     "output_type": "execute_result"
    }
   ],
   "source": [
    "our_cache.get(9)"
   ]
  },
  {
   "cell_type": "code",
   "execution_count": 216,
   "metadata": {},
   "outputs": [
    {
     "name": "stdout",
     "output_type": "stream",
     "text": [
      "setting value [(3, 3), (4, 4), (1, 1), (2, 2), (5, 5)]\n",
      "size of cache is = 5\n",
      "pop last item [(4, 4), (1, 1), (2, 2), (5, 5)]\n",
      "size of cache is = 4\n",
      "setting value [(4, 4), (1, 1), (2, 2), (5, 5), (6, 6)]\n",
      "size of cache is = 5\n"
     ]
    }
   ],
   "source": [
    "our_cache.set_val(5, 5) \n",
    "our_cache.set_val(6, 6)"
   ]
  },
  {
   "cell_type": "code",
   "execution_count": 154,
   "metadata": {},
   "outputs": [
    {
     "data": {
      "text/plain": [
       "dict_items([(1, 1), (2, 2), (3, 3), (4, 4)])"
      ]
     },
     "execution_count": 154,
     "metadata": {},
     "output_type": "execute_result"
    }
   ],
   "source": [
    "our_cache.hash_map.items()"
   ]
  },
  {
   "cell_type": "code",
   "execution_count": 217,
   "metadata": {},
   "outputs": [
    {
     "name": "stdout",
     "output_type": "stream",
     "text": [
      "pop last item [(1, 1), (2, 2), (5, 5), (6, 6)]\n",
      "size of cache is = 4\n",
      "setting value [(1, 1), (2, 2), (5, 5), (6, 6), (3, 3)]\n",
      "size of cache is = 5\n"
     ]
    }
   ],
   "source": [
    "our_cache.set_val(3, 3)"
   ]
  },
  {
   "cell_type": "code",
   "execution_count": 117,
   "metadata": {},
   "outputs": [
    {
     "data": {
      "text/plain": [
       "5"
      ]
     },
     "execution_count": 117,
     "metadata": {},
     "output_type": "execute_result"
    }
   ],
   "source": [
    "our_cache.get(5)  "
   ]
  },
  {
   "cell_type": "code",
   "execution_count": 218,
   "metadata": {},
   "outputs": [
    {
     "data": {
      "text/plain": [
       "5"
      ]
     },
     "execution_count": 218,
     "metadata": {},
     "output_type": "execute_result"
    }
   ],
   "source": [
    "our_cache.size"
   ]
  },
  {
   "cell_type": "code",
   "execution_count": null,
   "metadata": {},
   "outputs": [],
   "source": []
  }
 ],
 "metadata": {
  "kernelspec": {
   "display_name": "Python 3",
   "language": "python",
   "name": "python3"
  },
  "language_info": {
   "codemirror_mode": {
    "name": "ipython",
    "version": 3
   },
   "file_extension": ".py",
   "mimetype": "text/x-python",
   "name": "python",
   "nbconvert_exporter": "python",
   "pygments_lexer": "ipython3",
   "version": "3.7.4"
  }
 },
 "nbformat": 4,
 "nbformat_minor": 2
}
