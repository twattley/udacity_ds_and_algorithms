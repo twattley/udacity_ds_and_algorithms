{
 "cells": [
  {
   "cell_type": "code",
   "execution_count": 1,
   "metadata": {},
   "outputs": [],
   "source": [
    "class Group(object):\n",
    "    def __init__(self, _name):\n",
    "        self.name = _name\n",
    "        self.groups = []\n",
    "        self.users = []\n",
    "\n",
    "    def add_group(self, group):\n",
    "        self.groups.append(group)\n",
    "\n",
    "    def add_user(self, user):\n",
    "        self.users.append(user)\n",
    "\n",
    "    def get_groups(self):\n",
    "        return self.groups\n",
    "\n",
    "    def get_users(self):\n",
    "        return self.users\n",
    "\n",
    "    def get_name(self):\n",
    "        return self.name\n",
    "\n"
   ]
  },
  {
   "cell_type": "code",
   "execution_count": 2,
   "metadata": {},
   "outputs": [],
   "source": [
    "def is_user_in_group(user, group):\n",
    "    \"\"\"\n",
    "    Return True if user is in the group, False otherwise.\n",
    "    Args:\n",
    "      user(str): user name/id\n",
    "      group(class:Group): group to check user membership against\n",
    "    \"\"\"\n",
    "\n",
    "    #straight find\n",
    "    if user in group.get_users(): return True\n",
    "    \n",
    "    #noone in group\n",
    "    if not group.get_groups(): return False\n",
    "    \n",
    "    #recursive search\n",
    "    else:\n",
    "        for sub_group in group.get_groups():\n",
    "            if is_user_in_group(user, sub_group): return True\n",
    "                \n",
    "    return False"
   ]
  },
  {
   "cell_type": "code",
   "execution_count": 14,
   "metadata": {},
   "outputs": [],
   "source": [
    "parent = Group(\"parent\")\n",
    "child = Group(\"child\")\n",
    "sub_child = Group(\"subchild\")\n",
    "\n",
    "sub_child_user = \"sub_child_user\"\n",
    "sub_child.add_user(sub_child_user)\n",
    "child.add_group(sub_child)\n",
    "parent.add_group(child)\n",
    "\n",
    "\n",
    "sub_child_user = 'test_user_correct'\n",
    "sub_child.add_user(sub_child_user)\n",
    "child.add_group(sub_child)\n",
    "parent.add_group(child)\n",
    "\n",
    "users = ['test_user_1', 'test_user_2']\n",
    "for i in users:\n",
    "    sub_child.add_user(i)\n",
    "child.add_group(sub_child)\n",
    "parent.add_group(child)\n",
    "\n"
   ]
  },
  {
   "cell_type": "code",
   "execution_count": 19,
   "metadata": {},
   "outputs": [],
   "source": [
    "def test_user_lookup():\n",
    "    \"\"\"\n",
    "    test cases for lookups \n",
    "    \"\"\"\n",
    "    assert not is_user_in_group('test_user_incorrect', parent)\n",
    "    assert is_user_in_group('test_user_correct', parent)\n",
    "    assert is_user_in_group('test_user_1', child)\n",
    "    assert is_user_in_group('test_user_2', child)\n",
    "    assert not is_user_in_group('', parent)\n",
    "    assert not is_user_in_group('', child)\n",
    "    \n",
    "    \n",
    "\n",
    "test_user_lookup()"
   ]
  }
 ],
 "metadata": {
  "kernelspec": {
   "display_name": "Python 3",
   "language": "python",
   "name": "python3"
  },
  "language_info": {
   "codemirror_mode": {
    "name": "ipython",
    "version": 3
   },
   "file_extension": ".py",
   "mimetype": "text/x-python",
   "name": "python",
   "nbconvert_exporter": "python",
   "pygments_lexer": "ipython3",
   "version": "3.7.4"
  }
 },
 "nbformat": 4,
 "nbformat_minor": 2
}
