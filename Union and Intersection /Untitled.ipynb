{
 "cells": [
  {
   "cell_type": "code",
   "execution_count": 32,
   "metadata": {},
   "outputs": [],
   "source": [
    "class Node:\n",
    "    def __init__(self, value):\n",
    "        self.value = value\n",
    "        self.next = None\n",
    "\n",
    "    def __repr__(self):\n",
    "        return str(self.value)\n",
    "\n",
    "\n",
    "class Node:\n",
    "    def __init__(self, value):\n",
    "        self.value = value\n",
    "        self.next = None\n",
    "\n",
    "    def __repr__(self):\n",
    "        return str(self.value)\n",
    "\n",
    "\n",
    "class LinkedList:\n",
    "    def __init__(self):\n",
    "        self.head = None\n",
    "        self.tail = None\n",
    "\n",
    "    def __str__(self):\n",
    "        cur_head = self.head\n",
    "        out_string = \"\"\n",
    "        while cur_head:\n",
    "            out_string += str(cur_head.value) + \" -> \"\n",
    "            cur_head = cur_head.next\n",
    "        return out_string\n",
    "\n",
    "\n",
    "    def append(self, value):\n",
    "\n",
    "        if self.head is None:\n",
    "            self.head = Node(value)\n",
    "            return\n",
    "\n",
    "        node = self.head\n",
    "        while node.next:\n",
    "            node = node.next\n",
    "\n",
    "        node.next = Node(value)\n",
    "\n",
    "    def size(self):\n",
    "        size = 0\n",
    "        node = self.head\n",
    "        while node:\n",
    "            size += 1\n",
    "            node = node.next\n",
    "\n",
    "        return size\n",
    "    \n",
    "    def to_list(self):\n",
    "        out = []\n",
    "        node = self.head\n",
    "        while node:\n",
    "            out.append(node.value)\n",
    "            node = node.next\n",
    "        return out\n",
    "\n",
    "\n",
    "\n",
    "def union(llist_1, llist_2):\n",
    "    \n",
    "    #create a list of both linked lists \n",
    "    duplicated_union = llist_1.to_list() + llist_2.to_list()\n",
    "    \n",
    "    non_duplicated = []\n",
    "    for i in duplicated_union:\n",
    "        if i not in non_duplicated:\n",
    "            non_duplicated.append(i)\n",
    "    return non_duplicated\n",
    "\n",
    "\n",
    "def intersection(llist_1, llist_2):\n",
    "    \n",
    "    #create a list of both linked lists \n",
    "    duplicated_union = llist_1.to_list() + llist_2.to_list()\n",
    "    \n",
    "    temp_hold = []\n",
    "    intersection_list = []\n",
    "    for i in duplicated_union:\n",
    "        if i not in temp_hold:\n",
    "            temp_hold.append(i)\n",
    "        elif i not in intersection_list:\n",
    "            intersection_list.append(i)\n",
    "    return intersection_list\n",
    "            "
   ]
  },
  {
   "cell_type": "code",
   "execution_count": 62,
   "metadata": {},
   "outputs": [],
   "source": [
    "def test_union(llist_1, llist_2):\n",
    "    \n",
    "    \"\"\"function using built ins to test union function \"\"\"\n",
    "    \n",
    "    duplicated_union = llist_1.to_list() + llist_2.to_list()\n",
    "    return list(set(duplicated_union))"
   ]
  },
  {
   "cell_type": "code",
   "execution_count": 66,
   "metadata": {},
   "outputs": [],
   "source": [
    "def test_intersection(llist_1, llist_2):\n",
    "    \n",
    "    \"\"\"function using built ins to test intersection function \"\"\"\n",
    "    \n",
    "    return list(set(llist_1.to_list()).intersection(set(llist_2.to_list())))"
   ]
  },
  {
   "cell_type": "code",
   "execution_count": 73,
   "metadata": {},
   "outputs": [
    {
     "name": "stdout",
     "output_type": "stream",
     "text": [
      "[1, 2, 3, 4, 6, 9, 11, 21, 32, 35, 65]\n"
     ]
    }
   ],
   "source": [
    "print (sorted(test_union(linked_list_1,linked_list_2)))"
   ]
  },
  {
   "cell_type": "code",
   "execution_count": 71,
   "metadata": {},
   "outputs": [
    {
     "name": "stdout",
     "output_type": "stream",
     "text": [
      "[4, 21, 6]\n"
     ]
    }
   ],
   "source": [
    "print (test_intersection(linked_list_1,linked_list_2))"
   ]
  },
  {
   "cell_type": "code",
   "execution_count": 74,
   "metadata": {},
   "outputs": [
    {
     "name": "stdout",
     "output_type": "stream",
     "text": [
      "[1, 2, 3, 4, 6, 9, 11, 21, 32, 35, 65]\n"
     ]
    }
   ],
   "source": [
    "print(sorted (union(linked_list_1,linked_list_2)))"
   ]
  },
  {
   "cell_type": "code",
   "execution_count": null,
   "metadata": {},
   "outputs": [],
   "source": [
    "# Test case 1\n",
    "\n",
    "linked_list_1 = LinkedList()\n",
    "linked_list_2 = LinkedList()\n",
    "\n",
    "element_1 = [3,2,4,35,6,65,6,4,3,21]\n",
    "element_2 = [6,32,4,9,6,1,11,21,1]\n",
    "\n",
    "for i in element_1:\n",
    "    linked_list_1.append(i)\n",
    "\n",
    "for i in element_2:\n",
    "    linked_list_2.append(i)\n",
    "\n",
    "print (union(linked_list_1,linked_list_2))\n",
    "print (intersection(linked_list_1,linked_list_2))\n",
    "\n",
    "# Test case 2\n",
    "\n",
    "linked_list_3 = LinkedList()\n",
    "linked_list_4 = LinkedList()\n",
    "\n",
    "element_1 = [3,2,4,35,6,65,6,4,3,23]\n",
    "element_2 = [1,7,8,9,11,21,1]\n",
    "\n",
    "for i in element_1:\n",
    "    linked_list_3.append(i)\n",
    "\n",
    "for i in element_2:\n",
    "    linked_list_4.append(i)\n",
    "\n",
    "print (union(linked_list_3,linked_list_4))\n",
    "print (intersection(linked_list_3,linked_list_4))\n",
    "\n"
   ]
  }
 ],
 "metadata": {
  "kernelspec": {
   "display_name": "Python 3",
   "language": "python",
   "name": "python3"
  },
  "language_info": {
   "codemirror_mode": {
    "name": "ipython",
    "version": 3
   },
   "file_extension": ".py",
   "mimetype": "text/x-python",
   "name": "python",
   "nbconvert_exporter": "python",
   "pygments_lexer": "ipython3",
   "version": "3.7.4"
  }
 },
 "nbformat": 4,
 "nbformat_minor": 2
}
