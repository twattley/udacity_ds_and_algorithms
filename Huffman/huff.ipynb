{
 "cells": [
  {
   "cell_type": "code",
   "execution_count": 1,
   "metadata": {},
   "outputs": [],
   "source": [
    "some_str = 'aaaccccbcbabdaba'"
   ]
  },
  {
   "cell_type": "code",
   "execution_count": 359,
   "metadata": {},
   "outputs": [],
   "source": [
    "import sys\n",
    "import heapq\n",
    "from collections import Counter"
   ]
  },
  {
   "cell_type": "code",
   "execution_count": 361,
   "metadata": {},
   "outputs": [],
   "source": [
    "class HuffmanTree:\n",
    "    \n",
    "    \"\"\"the function of this class is to build the huffman tree instantiated with a string\"\"\"\n",
    "    \n",
    "    def __init__(self, input_string):\n",
    "        self.input_string = input_string\n",
    "    \n",
    "    @staticmethod\n",
    "    def traverse_tree(tree, mapper, prefix):\n",
    "        \n",
    "        \"\"\" recursively traverse tree \"\"\"\n",
    "        \n",
    "        if len(tree) == 1:\n",
    "            frequency, label = tree[0]\n",
    "            mapper[label] = prefix\n",
    "        else:\n",
    "            value, left, right = tree\n",
    "            HuffmanTree.traverse_tree(left, mapper, prefix + '0') #walk tree to the left add 1\n",
    "            HuffmanTree.traverse_tree(right, mapper, prefix + '1') #walk tree to the right add 0\n",
    "    \n",
    "\n",
    "    def print_sizes(self):\n",
    "        \n",
    "        print (f\"The size of the data is: {sys.getsizeof(self.input_string)}\\n\")\n",
    "        print (f\"The content of the data is: {self.input_string}\\n\")\n",
    "\n",
    "        print (f\"The size of the encoded data is:{sys.getsizeof(int(self.encode(), base=2))}\\n\")\n",
    "        print (f\"The content of the encoded data is: {self.encode()}\\n\")\n",
    "\n",
    "        print (f\"The size of the decoded data is: {sys.getsizeof(self.decode())}\\n\")\n",
    "        print (f\"The content of the encoded data is: {self.decode()}\\n\")\n",
    "   \n",
    "        \n",
    "    def huffman_frequency_counter(self):\n",
    "        \n",
    "        \"\"\" create a frequency dictionary \"\"\"\n",
    "\n",
    "\n",
    "        frequency_dict = Counter()\n",
    "        for letter in self.input_string:\n",
    "            frequency_dict[letter] += 1\n",
    "            \n",
    "        total = sum(frequency_dict.values())\n",
    "        \n",
    "        frequency_dict = {i:v/total for i, v in frequency_dict.items()} #normalise frequency values\n",
    "        \n",
    "        return [(v,i) for i,v in frequency_dict.items()]\n",
    "\n",
    "    \n",
    "    def build_tree(self):\n",
    "        \n",
    "        \"\"\" build huffman tree \"\"\"\n",
    "        \n",
    "        #create frequencies of input\n",
    "        frequencies = self.huffman_frequency_counter()\n",
    "        \n",
    "        huffman_heap = []\n",
    "        \n",
    "        for letter in frequencies:\n",
    "            heapq.heappush(huffman_heap, [letter])\n",
    "        \n",
    "        while len(huffman_heap) > 1:\n",
    "            \n",
    "            #using lowest values heap property push new values on \n",
    "            left_child = heapq.heappop(huffman_heap)\n",
    "            right_child = heapq.heappop(huffman_heap)\n",
    "            \n",
    "            frequency_left, label_left = left_child[0]\n",
    "            frequency_right, label_right = right_child[0]\n",
    "            frequency = frequency_left + frequency_right\n",
    "            \n",
    "            label = ''.join(sorted(label_left + label_right))\n",
    "            huffman_node = [(frequency, label), left_child, right_child]\n",
    "            heapq.heappush(huffman_heap, huffman_node)\n",
    "    \n",
    "        return huffman_heap.pop()\n",
    "    \n",
    "            \n",
    "    def build_code_mappings(self):\n",
    "        \n",
    "        \"\"\" walk through huffman tree adding prefix'/labels\"\"\"\n",
    "        \n",
    "        codemap = {}\n",
    "        \n",
    "        #build code tree\n",
    "        tree = self.build_tree()\n",
    "        HuffmanTree.traverse_tree(tree, codemap, '')\n",
    "        \n",
    "        return codemap\n",
    "        \n",
    "        \n",
    "    \n",
    "    def encode(self):\n",
    "        \n",
    "        \"\"\" loop through the dictionary and add them to a list \"\"\"\n",
    "        \n",
    "        mappings = self.build_code_mappings()\n",
    "        encoded = ''.join([mappings[letter] for letter in self.input_string])\n",
    "    \n",
    "        return encoded\n",
    "        \n",
    "        \n",
    "    def decode(self):\n",
    "        \n",
    "        \"\"\"decode the string back into original \"\"\"\n",
    "        \n",
    "        tree = self.build_tree()\n",
    "        traverser = self.build_tree()\n",
    "        \n",
    "        encoded_message = self.encode()\n",
    "        \n",
    "        decoded_letters = []\n",
    "        for digit in encoded_message:\n",
    "            if digit == '0': \n",
    "                traverser = traverser[1]\n",
    "            else: \n",
    "                traverser = traverser[2]\n",
    "           \n",
    "            if len(traverser) == 1:   #check if at leaf/bottom of tree\n",
    "                _ , label = traverser[0]\n",
    "                decoded_letters.append(label)\n",
    "                traverser = tree\n",
    "            \n",
    "        decoded_string = ''.join(decoded_letters)\n",
    "        \n",
    "        return decoded_string\n",
    "        \n",
    "    "
   ]
  },
  {
   "cell_type": "code",
   "execution_count": 362,
   "metadata": {},
   "outputs": [],
   "source": [
    "l = HuffmanTree(some_str)"
   ]
  },
  {
   "cell_type": "code",
   "execution_count": 363,
   "metadata": {},
   "outputs": [
    {
     "data": {
      "text/plain": [
       "[(1.0, 'abcd'),\n",
       " [(0.375, 'a')],\n",
       " [(0.625, 'bcd'),\n",
       "  [(0.3125, 'bd'), [(0.0625, 'd')], [(0.25, 'b')]],\n",
       "  [(0.3125, 'c')]]]"
      ]
     },
     "execution_count": 363,
     "metadata": {},
     "output_type": "execute_result"
    }
   ],
   "source": [
    "l.build_tree()"
   ]
  },
  {
   "cell_type": "code",
   "execution_count": 364,
   "metadata": {},
   "outputs": [
    {
     "data": {
      "text/plain": [
       "'0001111111110111101010110001010'"
      ]
     },
     "execution_count": 364,
     "metadata": {},
     "output_type": "execute_result"
    }
   ],
   "source": [
    "l.encode()"
   ]
  },
  {
   "cell_type": "code",
   "execution_count": 365,
   "metadata": {},
   "outputs": [
    {
     "data": {
      "text/plain": [
       "'aaaccccbcbabdaba'"
      ]
     },
     "execution_count": 365,
     "metadata": {},
     "output_type": "execute_result"
    }
   ],
   "source": [
    "l.decode()"
   ]
  },
  {
   "cell_type": "code",
   "execution_count": 366,
   "metadata": {},
   "outputs": [
    {
     "data": {
      "text/plain": [
       "{'a': '0', 'd': '100', 'b': '101', 'c': '11'}"
      ]
     },
     "execution_count": 366,
     "metadata": {},
     "output_type": "execute_result"
    }
   ],
   "source": [
    "l.build_code_mappings()"
   ]
  },
  {
   "cell_type": "code",
   "execution_count": 367,
   "metadata": {},
   "outputs": [
    {
     "name": "stdout",
     "output_type": "stream",
     "text": [
      "The size of the data is: 65\n",
      "\n",
      "The content of the data is: aaaccccbcbabdaba\n",
      "\n",
      "The size of the encoded data is:28\n",
      "\n",
      "The content of the encoded data is: 0001111111110111101010110001010\n",
      "\n",
      "The size of the decoded data is: 65\n",
      "\n",
      "The content of the encoded data is: aaaccccbcbabdaba\n",
      "\n"
     ]
    }
   ],
   "source": [
    "l.print_sizes()"
   ]
  },
  {
   "cell_type": "code",
   "execution_count": null,
   "metadata": {},
   "outputs": [],
   "source": []
  }
 ],
 "metadata": {
  "kernelspec": {
   "display_name": "Python 3",
   "language": "python",
   "name": "python3"
  },
  "language_info": {
   "codemirror_mode": {
    "name": "ipython",
    "version": 3
   },
   "file_extension": ".py",
   "mimetype": "text/x-python",
   "name": "python",
   "nbconvert_exporter": "python",
   "pygments_lexer": "ipython3",
   "version": "3.7.4"
  }
 },
 "nbformat": 4,
 "nbformat_minor": 2
}
